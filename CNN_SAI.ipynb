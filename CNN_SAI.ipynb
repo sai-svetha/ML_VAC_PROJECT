{
  "nbformat": 4,
  "nbformat_minor": 0,
  "metadata": {
    "colab": {
      "provenance": []
    },
    "kernelspec": {
      "name": "python3",
      "display_name": "Python 3"
    },
    "language_info": {
      "name": "python"
    }
  },
  "cells": [
    {
      "cell_type": "code",
      "execution_count": 1,
      "metadata": {
        "id": "lmJevtiy8XVe"
      },
      "outputs": [],
      "source": [
        "import tensorflow as ts\n",
        "from tensorflow import keras\n",
        "from keras.models import Sequential\n",
        "from keras.layers import Dense,Flatten,Conv2D,MaxPool2D,Dropout\n",
        "from tensorflow.keras import layers\n",
        "from keras.utils import to_categorical\n",
        "import matplotlib.pyplot as plt"
      ]
    },
    {
      "cell_type": "markdown",
      "source": [
        "Tensorflow is used as backend"
      ],
      "metadata": {
        "id": "LfSJKNHo9JyU"
      }
    },
    {
      "cell_type": "code",
      "source": [
        "from keras.datasets import cifar10"
      ],
      "metadata": {
        "id": "Yq8H28ly9H8S"
      },
      "execution_count": 2,
      "outputs": []
    },
    {
      "cell_type": "code",
      "source": [
        "(X_train,y_train),(X_test,y_test)=cifar10.load_data()"
      ],
      "metadata": {
        "colab": {
          "base_uri": "https://localhost:8080/"
        },
        "id": "Tn2MX-zM9IAL",
        "outputId": "2443b59a-4f04-4dcf-ea6c-2063c0163430"
      },
      "execution_count": 3,
      "outputs": [
        {
          "output_type": "stream",
          "name": "stdout",
          "text": [
            "Downloading data from https://www.cs.toronto.edu/~kriz/cifar-10-python.tar.gz\n",
            "170498071/170498071 [==============================] - 5s 0us/step\n"
          ]
        }
      ]
    },
    {
      "cell_type": "code",
      "source": [
        "#check type of the train and test\n",
        "type(X_train)"
      ],
      "metadata": {
        "colab": {
          "base_uri": "https://localhost:8080/"
        },
        "id": "KsfJBL9z_wNk",
        "outputId": "e283cd3c-a3cf-4ebc-dd8d-e88c3f954e39"
      },
      "execution_count": 4,
      "outputs": [
        {
          "output_type": "execute_result",
          "data": {
            "text/plain": [
              "numpy.ndarray"
            ]
          },
          "metadata": {},
          "execution_count": 4
        }
      ]
    },
    {
      "cell_type": "code",
      "source": [
        "X_train[10]"
      ],
      "metadata": {
        "colab": {
          "base_uri": "https://localhost:8080/",
          "height": 73
        },
        "id": "bAJqK6CJ_wQ1",
        "outputId": "8b0356c2-33fc-4d6c-a4e6-3d1281e04577"
      },
      "execution_count": 5,
      "outputs": [
        {
          "output_type": "execute_result",
          "data": {
            "text/plain": [
              "array([[[53, 65, 53],\n",
              "        [54, 63, 52],\n",
              "        [56, 60, 50],\n",
              "        ...,\n",
              "        [47, 51, 50],\n",
              "        [41, 45, 44],\n",
              "        [24, 28, 27]],\n",
              "\n",
              "       [[46, 59, 41],\n",
              "        [53, 62, 45],\n",
              "        [54, 59, 44],\n",
              "        ...,\n",
              "        [42, 46, 45],\n",
              "        [39, 43, 42],\n",
              "        [28, 32, 31]],\n",
              "\n",
              "       [[45, 59, 38],\n",
              "        [50, 60, 41],\n",
              "        [46, 52, 34],\n",
              "        ...,\n",
              "        [38, 42, 41],\n",
              "        [36, 40, 39],\n",
              "        [29, 33, 32]],\n",
              "\n",
              "       ...,\n",
              "\n",
              "       [[71, 83, 66],\n",
              "        [74, 83, 66],\n",
              "        [80, 85, 67],\n",
              "        ...,\n",
              "        [51, 54, 33],\n",
              "        [46, 49, 34],\n",
              "        [49, 50, 41]],\n",
              "\n",
              "       [[75, 82, 67],\n",
              "        [79, 85, 69],\n",
              "        [81, 85, 67],\n",
              "        ...,\n",
              "        [61, 65, 41],\n",
              "        [64, 67, 48],\n",
              "        [48, 50, 41]],\n",
              "\n",
              "       [[85, 83, 71],\n",
              "        [85, 84, 71],\n",
              "        [86, 86, 70],\n",
              "        ...,\n",
              "        [61, 65, 39],\n",
              "        [64, 67, 46],\n",
              "        [49, 50, 41]]], dtype=uint8)"
            ],
            "text/html": [
              "<style>\n",
              "      .ndarray_repr .ndarray_raw_data {\n",
              "        display: none;\n",
              "      }\n",
              "      .ndarray_repr.show_array .ndarray_raw_data {\n",
              "        display: block;\n",
              "      }\n",
              "      .ndarray_repr.show_array .ndarray_image_preview {\n",
              "        display: none;\n",
              "      }\n",
              "      </style>\n",
              "      <div id=\"id-63ac5a18-ff9c-4ed0-9ef3-7d56201e1953\" class=\"ndarray_repr\"><pre>ndarray (32, 32, 3) <button style=\"padding: 0 2px;\">show data</button></pre><img src=\"data:image/png;base64,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\" class=\"ndarray_image_preview\" /><pre class=\"ndarray_raw_data\">array([[[53, 65, 53],\n",
              "        [54, 63, 52],\n",
              "        [56, 60, 50],\n",
              "        ...,\n",
              "        [47, 51, 50],\n",
              "        [41, 45, 44],\n",
              "        [24, 28, 27]],\n",
              "\n",
              "       [[46, 59, 41],\n",
              "        [53, 62, 45],\n",
              "        [54, 59, 44],\n",
              "        ...,\n",
              "        [42, 46, 45],\n",
              "        [39, 43, 42],\n",
              "        [28, 32, 31]],\n",
              "\n",
              "       [[45, 59, 38],\n",
              "        [50, 60, 41],\n",
              "        [46, 52, 34],\n",
              "        ...,\n",
              "        [38, 42, 41],\n",
              "        [36, 40, 39],\n",
              "        [29, 33, 32]],\n",
              "\n",
              "       ...,\n",
              "\n",
              "       [[71, 83, 66],\n",
              "        [74, 83, 66],\n",
              "        [80, 85, 67],\n",
              "        ...,\n",
              "        [51, 54, 33],\n",
              "        [46, 49, 34],\n",
              "        [49, 50, 41]],\n",
              "\n",
              "       [[75, 82, 67],\n",
              "        [79, 85, 69],\n",
              "        [81, 85, 67],\n",
              "        ...,\n",
              "        [61, 65, 41],\n",
              "        [64, 67, 48],\n",
              "        [48, 50, 41]],\n",
              "\n",
              "       [[85, 83, 71],\n",
              "        [85, 84, 71],\n",
              "        [86, 86, 70],\n",
              "        ...,\n",
              "        [61, 65, 39],\n",
              "        [64, 67, 46],\n",
              "        [49, 50, 41]]], dtype=uint8)</pre></div><script>\n",
              "      (() => {\n",
              "      const titles = ['show data', 'hide data'];\n",
              "      let index = 0\n",
              "      document.querySelector('#id-63ac5a18-ff9c-4ed0-9ef3-7d56201e1953 button').onclick = (e) => {\n",
              "        document.querySelector('#id-63ac5a18-ff9c-4ed0-9ef3-7d56201e1953').classList.toggle('show_array');\n",
              "        index = (++index) % 2;\n",
              "        document.querySelector('#id-63ac5a18-ff9c-4ed0-9ef3-7d56201e1953 button').textContent = titles[index];\n",
              "        e.preventDefault();\n",
              "        e.stopPropagation();\n",
              "      }\n",
              "      })();\n",
              "    </script>"
            ]
          },
          "metadata": {},
          "execution_count": 5
        }
      ]
    },
    {
      "cell_type": "code",
      "source": [
        "#check shape of the train and test\n",
        "#(first is 80% split of data,img size,img size,rbg-->3)\n",
        "X_train.shape"
      ],
      "metadata": {
        "id": "cw4Hjye5AUOI",
        "outputId": "4dabd5e2-fe1d-433a-ac57-7170bceda58a",
        "colab": {
          "base_uri": "https://localhost:8080/"
        }
      },
      "execution_count": 6,
      "outputs": [
        {
          "output_type": "execute_result",
          "data": {
            "text/plain": [
              "(50000, 32, 32, 3)"
            ]
          },
          "metadata": {},
          "execution_count": 6
        }
      ]
    },
    {
      "cell_type": "code",
      "source": [
        "img=plt.imshow(X_train[10])"
      ],
      "metadata": {
        "colab": {
          "base_uri": "https://localhost:8080/",
          "height": 430
        },
        "id": "GqduFUiZ_Gsa",
        "outputId": "8c84aea9-6f93-4c2a-f6c8-36e911cbf374"
      },
      "execution_count": 7,
      "outputs": [
        {
          "output_type": "display_data",
          "data": {
            "text/plain": [
              "<Figure size 640x480 with 1 Axes>"
            ],
            "image/png": "[encoded data removed]"
          },
          "metadata": {}
        }
      ]
    },
    {
      "cell_type": "code",
      "source": [
        "lab1=y_train[10]\n",
        "print(lab1)\n",
        "classification=['airplane','automobile','bird','cat','deer','dog','frog','horse','ship','truck']"
      ],
      "metadata": {
        "id": "a3V5dejOBx9j",
        "outputId": "346599c9-f513-442f-ee26-138bed5cc97a",
        "colab": {
          "base_uri": "https://localhost:8080/"
        }
      },
      "execution_count": 8,
      "outputs": [
        {
          "output_type": "stream",
          "name": "stdout",
          "text": [
            "[4]\n"
          ]
        }
      ]
    },
    {
      "cell_type": "code",
      "source": [
        "print('image class is:',classification[y_train[10][0]])"
      ],
      "metadata": {
        "id": "D5hyu6f6ByA-",
        "outputId": "39f82b85-f2ce-4617-b70a-96fa4536ff85",
        "colab": {
          "base_uri": "https://localhost:8080/"
        }
      },
      "execution_count": 9,
      "outputs": [
        {
          "output_type": "stream",
          "name": "stdout",
          "text": [
            "image class is: deer\n"
          ]
        }
      ]
    },
    {
      "cell_type": "code",
      "source": [
        "ytrain_one_hot=to_categorical(y_train)\n",
        "ytest_one_hot=to_categorical(y_test)"
      ],
      "metadata": {
        "id": "PxTXxm5LEurL"
      },
      "execution_count": 10,
      "outputs": []
    },
    {
      "cell_type": "code",
      "source": [
        "#To normalise\n",
        "X_train=X_train/255\n",
        "X_test=X_test/255"
      ],
      "metadata": {
        "id": "JTvEpY7PEuuu"
      },
      "execution_count": 11,
      "outputs": []
    },
    {
      "cell_type": "code",
      "source": [
        "#Each column represents rgb percentage colour depth\n",
        "X_train[8]"
      ],
      "metadata": {
        "id": "0rKgt5v3FKz4",
        "outputId": "5a898e21-1dd5-4f08-fc8a-7de214ed542a",
        "colab": {
          "base_uri": "https://localhost:8080/"
        }
      },
      "execution_count": 12,
      "outputs": [
        {
          "output_type": "execute_result",
          "data": {
            "text/plain": [
              "array([[[0.5254902 , 0.72941176, 0.8745098 ],\n",
              "        [0.51372549, 0.72156863, 0.8627451 ],\n",
              "        [0.50196078, 0.71372549, 0.85490196],\n",
              "        ...,\n",
              "        [0.49803922, 0.70980392, 0.87058824],\n",
              "        [0.49803922, 0.70980392, 0.87058824],\n",
              "        [0.50196078, 0.71372549, 0.8745098 ]],\n",
              "\n",
              "       [[0.52156863, 0.74117647, 0.89411765],\n",
              "        [0.50588235, 0.72941176, 0.87843137],\n",
              "        [0.50196078, 0.72941176, 0.87843137],\n",
              "        ...,\n",
              "        [0.49803922, 0.71764706, 0.87843137],\n",
              "        [0.49803922, 0.71764706, 0.87843137],\n",
              "        [0.50196078, 0.72156863, 0.88235294]],\n",
              "\n",
              "       [[0.50196078, 0.7254902 , 0.88627451],\n",
              "        [0.49803922, 0.71372549, 0.8745098 ],\n",
              "        [0.50196078, 0.71372549, 0.8745098 ],\n",
              "        ...,\n",
              "        [0.49411765, 0.70980392, 0.87058824],\n",
              "        [0.49411765, 0.70980392, 0.87058824],\n",
              "        [0.49411765, 0.70588235, 0.86666667]],\n",
              "\n",
              "       ...,\n",
              "\n",
              "       [[0.68235294, 0.81568627, 0.92156863],\n",
              "        [0.67058824, 0.80784314, 0.89803922],\n",
              "        [0.60784314, 0.74117647, 0.84705882],\n",
              "        ...,\n",
              "        [0.10588235, 0.36862745, 0.53333333],\n",
              "        [0.11372549, 0.37647059, 0.5372549 ],\n",
              "        [0.10980392, 0.36862745, 0.53333333]],\n",
              "\n",
              "       [[0.76078431, 0.86666667, 0.95686275],\n",
              "        [0.74117647, 0.84313725, 0.9372549 ],\n",
              "        [0.62352941, 0.76862745, 0.88235294],\n",
              "        ...,\n",
              "        [0.11764706, 0.37254902, 0.54117647],\n",
              "        [0.11764706, 0.37647059, 0.54509804],\n",
              "        [0.11764706, 0.37254902, 0.54901961]],\n",
              "\n",
              "       [[0.75686275, 0.85098039, 0.92941176],\n",
              "        [0.70980392, 0.81568627, 0.90196078],\n",
              "        [0.65882353, 0.78823529, 0.89019608],\n",
              "        ...,\n",
              "        [0.12156863, 0.36862745, 0.53333333],\n",
              "        [0.1254902 , 0.36862745, 0.5372549 ],\n",
              "        [0.1254902 , 0.36862745, 0.54117647]]])"
            ]
          },
          "metadata": {},
          "execution_count": 12
        }
      ]
    },
    {
      "cell_type": "code",
      "source": [
        "#create the architecture\n",
        "model=Sequential()\n",
        "#first conv layer\n",
        "model.add(Conv2D(32,(5,5),activation='relu',input_shape=(32,32,3)))\n",
        "#Pooling Layer\n",
        "model.add(MaxPool2D(pool_size=(2,2)))\n",
        "#second conv\n",
        "model.add(Conv2D(32,(5,5),activation='relu'))\n",
        "#Pooling Layer two\n",
        "model.add(MaxPool2D(pool_size=(2,2)))\n",
        "\n",
        "#flattening layer\n",
        "model.add(Flatten())\n",
        "\n",
        "#add a layer\n",
        "model.add(Dense(1000,activation='relu'))\n",
        "#add Dropout layer\n",
        "model.add(Dropout(0.5))\n",
        "\n",
        "#add a layer\n",
        "model.add(Dense(500,activation='relu'))\n",
        "model.add(Dropout(0.5))\n",
        "\n",
        "\n",
        "#add a layer\n",
        "model.add(Dense(250,activation='relu'))\n",
        "\n",
        "\n",
        "#add a layer\n",
        "model.add(Dense(10,activation='softmax'))\n",
        "\n",
        "#add Drop\n",
        "model.compile(loss='categorical_crossentropy',optimizer='adam',metrics=['accuracy'])"
      ],
      "metadata": {
        "id": "QgzNm4dlGrUW"
      },
      "execution_count": 13,
      "outputs": []
    },
    {
      "cell_type": "code",
      "source": [
        "model.summary()"
      ],
      "metadata": {
        "id": "KutBsHuyIehD",
        "outputId": "72d47eb4-8cca-44a9-a187-5d5e741445cf",
        "colab": {
          "base_uri": "https://localhost:8080/"
        }
      },
      "execution_count": 14,
      "outputs": [
        {
          "output_type": "stream",
          "name": "stdout",
          "text": [
            "Model: \"sequential\"\n",
            "_________________________________________________________________\n",
            " Layer (type)                Output Shape              Param #   \n",
            "=================================================================\n",
            " conv2d (Conv2D)             (None, 28, 28, 32)        2432      \n",
            "                                                                 \n",
            " max_pooling2d (MaxPooling2  (None, 14, 14, 32)        0         \n",
            " D)                                                              \n",
            "                                                                 \n",
            " conv2d_1 (Conv2D)           (None, 10, 10, 32)        25632     \n",
            "                                                                 \n",
            " max_pooling2d_1 (MaxPoolin  (None, 5, 5, 32)          0         \n",
            " g2D)                                                            \n",
            "                                                                 \n",
            " flatten (Flatten)           (None, 800)               0         \n",
            "                                                                 \n",
            " dense (Dense)               (None, 1000)              801000    \n",
            "                                                                 \n",
            " dropout (Dropout)           (None, 1000)              0         \n",
            "                                                                 \n",
            " dense_1 (Dense)             (None, 500)               500500    \n",
            "                                                                 \n",
            " dropout_1 (Dropout)         (None, 500)               0         \n",
            "                                                                 \n",
            " dense_2 (Dense)             (None, 250)               125250    \n",
            "                                                                 \n",
            " dense_3 (Dense)             (None, 10)                2510      \n",
            "                                                                 \n",
            "=================================================================\n",
            "Total params: 1457324 (5.56 MB)\n",
            "Trainable params: 1457324 (5.56 MB)\n",
            "Non-trainable params: 0 (0.00 Byte)\n",
            "_________________________________________________________________\n"
          ]
        }
      ]
    },
    {
      "cell_type": "code",
      "source": [
        "tr=model.fit(X_train,ytrain_one_hot,batch_size=256,epochs=1,validation_split=0.2)"
      ],
      "metadata": {
        "id": "hkW2_S7FYjO2",
        "outputId": "f8997eb0-7b62-4323-a022-b8c34d7cbc3f",
        "colab": {
          "base_uri": "https://localhost:8080/"
        }
      },
      "execution_count": null,
      "outputs": [
        {
          "output_type": "stream",
          "name": "stdout",
          "text": [
            "157/157 [==============================] - 42s 262ms/step - loss: 1.8053 - accuracy: 0.3237 - val_loss: 1.4936 - val_accuracy: 0.4495\n"
          ]
        }
      ]
    },
    {
      "cell_type": "code",
      "source": [
        "model.evaluate(X_test,ytest_one_hot)"
      ],
      "metadata": {
        "id": "pqcacQPNddk2"
      },
      "execution_count": null,
      "outputs": []
    },
    {
      "cell_type": "code",
      "source": [
        "#!pip install scikit-image\n",
        "from skimage import transform"
      ],
      "metadata": {
        "id": "nH-hM-F0YjfD"
      },
      "execution_count": null,
      "outputs": []
    },
    {
      "cell_type": "code",
      "source": [
        "dog=plt.imread(\"/content/dog-puppy-on-garden-royalty-free-image-1586966191.jpg\")\n",
        "plt.imshow(dog)"
      ],
      "metadata": {
        "id": "DTa-QpCMaINx"
      },
      "execution_count": null,
      "outputs": []
    },
    {
      "cell_type": "code",
      "source": [
        "resize=transform.resize(dog,(32,32,3))\n",
        "plt.imshow(resize)"
      ],
      "metadata": {
        "id": "9RYTcfzha8q0"
      },
      "execution_count": null,
      "outputs": []
    },
    {
      "cell_type": "code",
      "source": [
        "import numpy as np\n",
        "prediction=model.predict(np.array([resize]))\n",
        "print(prediction)"
      ],
      "metadata": {
        "id": "8zOUE8bwfvVk"
      },
      "execution_count": null,
      "outputs": []
    },
    {
      "cell_type": "code",
      "source": [
        "list_index=[0,1,2,3,4,5,6,7,8,9]\n",
        "x=prediction\n",
        "for i in range(10):\n",
        "    for j in range(10):\n",
        "        if x[0][list_index[i]]>x[0][list_index[j]]:\n",
        "            temp=list_index[i]\n",
        "            list_index[i]=list_index[j]\n",
        "            list_index[j]=temp\n",
        "print(list_index)\n",
        "for i in range(5):\n",
        "        print(classification[list_index[i]])"
      ],
      "metadata": {
        "id": "jdWfT4a9gESx"
      },
      "execution_count": null,
      "outputs": []
    },
    {
      "cell_type": "code",
      "source": [],
      "metadata": {
        "id": "t9F8ssXlgEKf"
      },
      "execution_count": null,
      "outputs": []
    },
    {
      "cell_type": "code",
      "source": [],
      "metadata": {
        "id": "lyjcziAFa83A"
      },
      "execution_count": null,
      "outputs": []
    }
  ]
}